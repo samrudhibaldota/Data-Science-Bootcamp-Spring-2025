{
  "nbformat": 4,
  "nbformat_minor": 0,
  "metadata": {
    "colab": {
      "provenance": []
    },
    "kernelspec": {
      "name": "python3",
      "display_name": "Python 3"
    },
    "language_info": {
      "name": "python"
    }
  },
  "cells": [
    {
      "cell_type": "markdown",
      "source": [
        "## **Data Science Bootcamp, Spring '25**\n",
        "\n",
        "<br>\n",
        "\n",
        "---\n",
        "\n",
        "### Assignment 1 : **Introduction to Python**\n",
        "#### Student: **Samrudhi Baldota**\n",
        "#### NetID: **sb10212**\n",
        "\n",
        "---\n",
        "---"
      ],
      "metadata": {
        "id": "gxN_KUplzpvd"
      }
    },
    {
      "cell_type": "markdown",
      "source": [
        "###  1. Display Fibonacci Series up to 10 terms"
      ],
      "metadata": {
        "id": "eOqn3XM80RJC"
      }
    },
    {
      "cell_type": "code",
      "source": [
        "def fibonacci(n):\n",
        "    a, b = 0, 1\n",
        "    for _ in range(n):\n",
        "        print(a, end=\" \")\n",
        "        a, b = b, a + b\n",
        "\n",
        "fibonacci(10)\n"
      ],
      "metadata": {
        "colab": {
          "base_uri": "https://localhost:8080/"
        },
        "id": "Rcc87etO0fvG",
        "outputId": "7b750f86-1a7a-4fc1-ed5a-dd2cfb2ea659"
      },
      "execution_count": 2,
      "outputs": [
        {
          "output_type": "stream",
          "name": "stdout",
          "text": [
            "0 1 1 2 3 5 8 13 21 34 "
          ]
        }
      ]
    },
    {
      "cell_type": "markdown",
      "source": [
        "### 2. Display numbers at the odd indices of a list"
      ],
      "metadata": {
        "id": "Q9imR6hB0l4-"
      }
    },
    {
      "cell_type": "code",
      "source": [
        "def odd_indices(lst):\n",
        "    return [lst[i] for i in range(1, len(lst), 2)]\n",
        "\n",
        "my_list = [1, 2, 3, 4, 5, 6, 7, 8, 9]\n",
        "print(odd_indices(my_list))\n"
      ],
      "metadata": {
        "colab": {
          "base_uri": "https://localhost:8080/"
        },
        "id": "O2PXj1Uc0sa1",
        "outputId": "2994b3dc-2dbf-4aab-f908-575423b62f06"
      },
      "execution_count": 3,
      "outputs": [
        {
          "output_type": "stream",
          "name": "stdout",
          "text": [
            "[2, 4, 6, 8]\n"
          ]
        }
      ]
    },
    {
      "cell_type": "markdown",
      "source": [
        "### 3. Count the number of different words in a given string"
      ],
      "metadata": {
        "id": "O8f6Z1PE00D4"
      }
    },
    {
      "cell_type": "code",
      "source": [
        "string = \"\"\"\n",
        "I have provided this text to provide tips on creating interesting paragraphs.\n",
        "\n",
        "First, start with a clear topic sentence that introduces the main idea.\n",
        "\n",
        "Then, support the topic sentence with specific details, examples, and evidence.\n",
        "\n",
        "Vary the sentence length and structure to keep the reader engaged.\n",
        "\n",
        "Finally, end with a strong concluding sentence that summarizes the main points.\n",
        "\n",
        "Remember, practice makes perfect!\n",
        "\"\"\"\n",
        "def count_unique_words(text):\n",
        "    words = text.split()\n",
        "    unique_words = set(words)\n",
        "    return len(unique_words)\n",
        "\n",
        "print(count_unique_words(string))"
      ],
      "metadata": {
        "colab": {
          "base_uri": "https://localhost:8080/"
        },
        "id": "DPw6J3Vx1I9q",
        "outputId": "1c17fac4-e134-4703-b74b-fa042598fed2"
      },
      "execution_count": 5,
      "outputs": [
        {
          "output_type": "stream",
          "name": "stdout",
          "text": [
            "47\n"
          ]
        }
      ]
    },
    {
      "cell_type": "markdown",
      "source": [
        "### 4. Write a function count_vowels(word) that takes a word as an argument and returns the number of vowels in the word"
      ],
      "metadata": {
        "id": "wCjxugyQ1xhv"
      }
    },
    {
      "cell_type": "code",
      "source": [
        "def count_vowels(word):\n",
        "    vowels = 'aeiouAEIOU'\n",
        "    return sum(1 for char in word if char in vowels)\n",
        "\n",
        "word = \"example\"\n",
        "print(count_vowels(word))\n"
      ],
      "metadata": {
        "colab": {
          "base_uri": "https://localhost:8080/"
        },
        "id": "4NjYuBnE1zPm",
        "outputId": "5a00b766-db9e-4b61-9198-96311f9f75aa"
      },
      "execution_count": 6,
      "outputs": [
        {
          "output_type": "stream",
          "name": "stdout",
          "text": [
            "3\n"
          ]
        }
      ]
    },
    {
      "cell_type": "markdown",
      "source": [
        "### 5. Iterate through the list of animals and print each one in all caps"
      ],
      "metadata": {
        "id": "6GedbnaZ2JJJ"
      }
    },
    {
      "cell_type": "code",
      "source": [
        "animals = ['tiger', 'elephant', 'monkey', 'zebra', 'panther']\n",
        "\n",
        "for animal in animals:\n",
        "    print(animal.upper())\n"
      ],
      "metadata": {
        "colab": {
          "base_uri": "https://localhost:8080/"
        },
        "id": "1vlHcLAe2Ndb",
        "outputId": "d62b50c1-8e03-493f-c4f3-8b6f8cdc79f0"
      },
      "execution_count": 7,
      "outputs": [
        {
          "output_type": "stream",
          "name": "stdout",
          "text": [
            "TIGER\n",
            "ELEPHANT\n",
            "MONKEY\n",
            "ZEBRA\n",
            "PANTHER\n"
          ]
        }
      ]
    },
    {
      "cell_type": "markdown",
      "source": [
        "### 6. Write a program that iterates from 1 to 20, printing each number and whether it's odd or even"
      ],
      "metadata": {
        "id": "r_0VsC5V2UEw"
      }
    },
    {
      "cell_type": "code",
      "source": [
        "for num in range(1, 21):\n",
        "    if num % 2 == 0:\n",
        "        print(f\"{num} is even\")\n",
        "    else:\n",
        "        print(f\"{num} is odd\")\n"
      ],
      "metadata": {
        "colab": {
          "base_uri": "https://localhost:8080/"
        },
        "id": "WanrXbSn2YFQ",
        "outputId": "de95961d-9a20-478b-cf86-65c1028dbb1c"
      },
      "execution_count": 8,
      "outputs": [
        {
          "output_type": "stream",
          "name": "stdout",
          "text": [
            "1 is odd\n",
            "2 is even\n",
            "3 is odd\n",
            "4 is even\n",
            "5 is odd\n",
            "6 is even\n",
            "7 is odd\n",
            "8 is even\n",
            "9 is odd\n",
            "10 is even\n",
            "11 is odd\n",
            "12 is even\n",
            "13 is odd\n",
            "14 is even\n",
            "15 is odd\n",
            "16 is even\n",
            "17 is odd\n",
            "18 is even\n",
            "19 is odd\n",
            "20 is even\n"
          ]
        }
      ]
    },
    {
      "cell_type": "markdown",
      "source": [
        "### 7. Write a function sum_of_integers(a, b) that takes two integers as input from the user and returns their sum"
      ],
      "metadata": {
        "id": "v_eqb6fa2ajt"
      }
    },
    {
      "cell_type": "code",
      "source": [
        "def sum_of_integers(a, b):\n",
        "    return a + b\n",
        "\n",
        "a = int(input(\"Enter first integer: \"))\n",
        "b = int(input(\"Enter second integer: \"))\n",
        "\n",
        "print(f\"The sum is: {sum_of_integers(a, b)}\")\n"
      ],
      "metadata": {
        "colab": {
          "base_uri": "https://localhost:8080/"
        },
        "id": "PTiNnK6c2ewQ",
        "outputId": "87c169e8-3010-419f-f0f3-587ebced8e03"
      },
      "execution_count": 9,
      "outputs": [
        {
          "output_type": "stream",
          "name": "stdout",
          "text": [
            "Enter first integer: 2\n",
            "Enter second integer: 3\n",
            "The sum is: 5\n"
          ]
        }
      ]
    },
    {
      "cell_type": "markdown",
      "source": [
        "### Additional Challenge - Books data challenge"
      ],
      "metadata": {
        "id": "o2jwVV0p3FH8"
      }
    },
    {
      "cell_type": "code",
      "source": [
        "books = [\n",
        "    {\n",
        "        \"title\": \"The Great Gatsby\",\n",
        "        \"author\": \"F. Scott Fitzgerald\",\n",
        "        \"genre\": \"Fiction\",\n",
        "        \"rating\": 4.2\n",
        "    },\n",
        "    {\n",
        "        \"title\": \"To Kill a Mockingbird\",\n",
        "        \"author\": \"Harper Lee\",\n",
        "        \"genre\": \"Classic\",\n",
        "        \"rating\": 4.5\n",
        "    },\n",
        "    {\n",
        "        \"title\": \"1984\",\n",
        "        \"author\": \"George Orwell\",\n",
        "        \"genre\": \"Dystopian\",\n",
        "        \"rating\": 4.8\n",
        "    },\n",
        "    {\n",
        "        \"title\": \"Pride and Prejudice\",\n",
        "        \"author\": \"Jane Austen\",\n",
        "        \"genre\": \"Romance\",\n",
        "        \"rating\": 4.7\n",
        "    },\n",
        "    {\n",
        "        \"title\": \"Harry Potter and the Sorcerer's Stone\",\n",
        "        \"author\": \"J.K. Rowling\",\n",
        "        \"genre\": \"Fantasy\",\n",
        "        \"rating\": 4.9\n",
        "    },\n",
        "    {\n",
        "        \"title\": \"The Catcher in the Rye\",\n",
        "        \"author\": \"J.D. Salinger\",\n",
        "        \"genre\": \"Coming-of-age\",\n",
        "        \"rating\": 4.1\n",
        "    }\n",
        "]"
      ],
      "metadata": {
        "id": "FBdsbXCa3VAD"
      },
      "execution_count": 10,
      "outputs": []
    },
    {
      "cell_type": "markdown",
      "source": [
        "<br>\n",
        "\n",
        "---\n",
        "### 1. Checking Book Ratings"
      ],
      "metadata": {
        "id": "83j5KVi03Ubg"
      }
    },
    {
      "cell_type": "code",
      "source": [
        "def check_rating(book):\n",
        "    rating = book.get(\"rating\")\n",
        "    if rating > 4.5:\n",
        "        return 'high'\n",
        "    elif rating <= 4.0:\n",
        "        return 'low'\n",
        "    elif rating > 4.0 and rating <= 4.5:\n",
        "        return 'medium'\n",
        "\n",
        "# Test the function with one book\n",
        "book = {\n",
        "    \"title\": \"The Great Gatsby\",\n",
        "    \"author\": \"F. Scott Fitzgerald\",\n",
        "    \"genre\": \"Fiction\",\n",
        "    \"rating\": 4.2\n",
        "}\n",
        "\n",
        "print(check_rating(book))  # Output should be 'medium'\n"
      ],
      "metadata": {
        "colab": {
          "base_uri": "https://localhost:8080/"
        },
        "id": "n75itc683Sin",
        "outputId": "9c30ff96-8d6d-4a7d-b1ec-b338dacd82bb"
      },
      "execution_count": 11,
      "outputs": [
        {
          "output_type": "stream",
          "name": "stdout",
          "text": [
            "medium\n"
          ]
        }
      ]
    },
    {
      "cell_type": "markdown",
      "source": [
        "### 2. Average Rating by Genre"
      ],
      "metadata": {
        "id": "wNbk0xTM4Xqh"
      }
    },
    {
      "cell_type": "code",
      "source": [
        "def average_rating_by_genre(books, genre):\n",
        "    genre_books = [book for book in books if book[\"genre\"].lower() == genre.lower()]\n",
        "\n",
        "    if not genre_books:\n",
        "        return f\"No books found in the genre '{genre}'.\"\n",
        "\n",
        "    avg_rating = sum(book[\"rating\"] for book in genre_books) / len(genre_books)\n",
        "    return avg_rating\n",
        "\n",
        "# Test the function for the 'Fiction' genre\n",
        "genre = 'Fiction'\n",
        "print(average_rating_by_genre(books, genre))  # Output should be the average rating for 'Fiction'\n"
      ],
      "metadata": {
        "colab": {
          "base_uri": "https://localhost:8080/"
        },
        "id": "1hMcIrCt4bxh",
        "outputId": "901041ea-d501-44a7-abf3-f6875f6c64f8"
      },
      "execution_count": 12,
      "outputs": [
        {
          "output_type": "stream",
          "name": "stdout",
          "text": [
            "4.2\n"
          ]
        }
      ]
    },
    {
      "cell_type": "markdown",
      "source": [
        "### 3. Books by Author"
      ],
      "metadata": {
        "id": "HAnzp9T54pF8"
      }
    },
    {
      "cell_type": "code",
      "source": [
        "class AuthorNotFoundError(Exception):\n",
        "    \"\"\"Custom exception for author not found.\"\"\"\n",
        "    pass\n",
        "\n",
        "def books_by_author(books, author):\n",
        "    author_books = [book for book in books if book[\"author\"].lower() == author.lower()]\n",
        "\n",
        "    if not author_books:\n",
        "        raise AuthorNotFoundError(f\"No books found by author '{author}'.\")\n",
        "\n",
        "    return author_books\n",
        "\n",
        "# Test the function for 'J.K. Rowling'\n",
        "author = 'J.K. Rowling'\n",
        "try:\n",
        "    books_by_rowling = books_by_author(books, author)\n",
        "    for book in books_by_rowling:\n",
        "        print(book[\"title\"])\n",
        "except AuthorNotFoundError as e:\n",
        "    print(e)\n"
      ],
      "metadata": {
        "colab": {
          "base_uri": "https://localhost:8080/"
        },
        "id": "_n21KYd25SWR",
        "outputId": "793455ae-c52c-4b93-f499-4d4c6d293f80"
      },
      "execution_count": 13,
      "outputs": [
        {
          "output_type": "stream",
          "name": "stdout",
          "text": [
            "Harry Potter and the Sorcerer's Stone\n"
          ]
        }
      ]
    },
    {
      "cell_type": "code",
      "source": [
        "class AuthorNotFoundError(Exception):\n",
        "    \"\"\"Custom exception for author not found.\"\"\"\n",
        "    pass\n",
        "\n",
        "def books_by_author(books, author):\n",
        "    author_books = [book for book in books if book[\"author\"].lower() == author.lower()]\n",
        "\n",
        "    if not author_books:\n",
        "        raise AuthorNotFoundError(f\"No books found by author '{author}'.\")\n",
        "\n",
        "    return author_books\n",
        "\n",
        "# Trying to find books by 'Stephen King' (who is not in the books list)\n",
        "author = 'Stephen King'\n",
        "try:\n",
        "    books_by_stephen_king = books_by_author(books, author)\n",
        "    for book in books_by_stephen_king:\n",
        "        print(book[\"title\"])\n",
        "except AuthorNotFoundError as e:\n",
        "    print(e)\n"
      ],
      "metadata": {
        "colab": {
          "base_uri": "https://localhost:8080/"
        },
        "id": "wxtTm27x5h0G",
        "outputId": "d8ff5026-2af7-44ab-9cf7-0dfffeb92bc7"
      },
      "execution_count": 14,
      "outputs": [
        {
          "output_type": "stream",
          "name": "stdout",
          "text": [
            "No books found by author 'Stephen King'.\n"
          ]
        }
      ]
    }
  ]
}