{
  "nbformat": 4,
  "nbformat_minor": 0,
  "metadata": {
    "colab": {
      "provenance": []
    },
    "kernelspec": {
      "name": "python3",
      "display_name": "Python 3"
    },
    "language_info": {
      "name": "python"
    }
  },
  "cells": [
    {
      "cell_type": "markdown",
      "source": [
        "## **Data Science Bootcamp, Spring '25**\n",
        "\n",
        "<br>\n",
        "\n",
        "---\n",
        "\n",
        "### Assignment 2 : **Numpy and Pandas**\n",
        "#### Student: **Samrudhi Baldota**\n",
        "#### NetID: **sb10212**\n",
        "\n",
        "---\n",
        "---"
      ],
      "metadata": {
        "id": "XC5feH9g5T1P"
      }
    },
    {
      "cell_type": "markdown",
      "source": [
        "###  **Numpy**"
      ],
      "metadata": {
        "id": "D7zasBr47JA5"
      }
    },
    {
      "cell_type": "code",
      "source": [
        "import numpy as np\n",
        "\n",
        "# Load the dataset\n",
        "url = 'https://archive.ics.uci.edu/ml/machine-learning-databases/iris/iris.data'\n",
        "iris_2d = np.genfromtxt(url, delimiter=',', dtype='float', usecols=[0,1,2,3])\n",
        "\n",
        "# 1. Define two custom numpy arrays A and B, and stack them vertically and horizontally.\n",
        "A = np.array([[1, 2, 3], [4, 5, 6]])\n",
        "B = np.array([[7, 8, 9], [10, 11, 12]])\n",
        "\n",
        "vertical_stack = np.vstack((A, B))\n",
        "horizontal_stack = np.hstack((A, B))\n",
        "\n",
        "print(\"Vertical Stack:\\n\", vertical_stack)\n",
        "print(\"Horizontal Stack:\\n\", horizontal_stack)\n",
        "\n"
      ],
      "metadata": {
        "colab": {
          "base_uri": "https://localhost:8080/"
        },
        "id": "vR4SbzUI6YsA",
        "outputId": "71449bf9-1d42-4686-f9cf-a80d9fbe5952"
      },
      "execution_count": 2,
      "outputs": [
        {
          "output_type": "stream",
          "name": "stdout",
          "text": [
            "Vertical Stack:\n",
            " [[ 1  2  3]\n",
            " [ 4  5  6]\n",
            " [ 7  8  9]\n",
            " [10 11 12]]\n",
            "Horizontal Stack:\n",
            " [[ 1  2  3  7  8  9]\n",
            " [ 4  5  6 10 11 12]]\n"
          ]
        }
      ]
    },
    {
      "cell_type": "code",
      "source": [
        "# 2. Find common elements between A and B.\n",
        "common_elements = np.intersect1d(A, B)\n",
        "print(\"Common Elements:\", common_elements)\n",
        "\n"
      ],
      "metadata": {
        "colab": {
          "base_uri": "https://localhost:8080/"
        },
        "id": "y9NOCgUK6eGL",
        "outputId": "c30c7434-e7c9-43d9-97c6-5aa6775ad162"
      },
      "execution_count": 3,
      "outputs": [
        {
          "output_type": "stream",
          "name": "stdout",
          "text": [
            "Common Elements: []\n"
          ]
        }
      ]
    },
    {
      "cell_type": "code",
      "source": [
        "# 3. Extract all numbers from A which are within a specific range (5 to 10).\n",
        "filtered_A = A[(A >= 5) & (A <= 10)]\n",
        "print(\"Numbers in A between 5 and 10:\", filtered_A)\n",
        "\n",
        "\n"
      ],
      "metadata": {
        "colab": {
          "base_uri": "https://localhost:8080/"
        },
        "id": "E0KA8DMg6gy5",
        "outputId": "4b0b10c5-98ee-4044-b9bf-52927203eea2"
      },
      "execution_count": 4,
      "outputs": [
        {
          "output_type": "stream",
          "name": "stdout",
          "text": [
            "Numbers in A between 5 and 10: [5 6]\n"
          ]
        }
      ]
    },
    {
      "cell_type": "code",
      "source": [
        "# 4. Filter rows of iris_2d where petal length (3rd column) > 1.5 and sepal length (1st column) < 5.0\n",
        "filtered_iris = iris_2d[(iris_2d[:, 2] > 1.5) & (iris_2d[:, 0] < 5.0)]\n",
        "print(\"Filtered iris_2d:\\n\", filtered_iris)"
      ],
      "metadata": {
        "colab": {
          "base_uri": "https://localhost:8080/"
        },
        "id": "vozwUUtw6joL",
        "outputId": "fc146447-3612-4ce5-f423-cb242bcb4bd1"
      },
      "execution_count": 5,
      "outputs": [
        {
          "output_type": "stream",
          "name": "stdout",
          "text": [
            "Filtered iris_2d:\n",
            " [[4.8 3.4 1.6 0.2]\n",
            " [4.8 3.4 1.9 0.2]\n",
            " [4.7 3.2 1.6 0.2]\n",
            " [4.8 3.1 1.6 0.2]\n",
            " [4.9 2.4 3.3 1. ]\n",
            " [4.9 2.5 4.5 1.7]]\n"
          ]
        }
      ]
    },
    {
      "cell_type": "markdown",
      "source": [
        "### **Pandas**"
      ],
      "metadata": {
        "id": "9tXjJ3kA7Qb-"
      }
    },
    {
      "cell_type": "code",
      "source": [
        "import pandas as pd\n",
        "import numpy as np\n",
        "\n",
        "# 1. Filter 'Manufacturer', 'Model', and 'Type' for every 20th row starting from 1st row\n",
        "df = pd.read_csv('https://raw.githubusercontent.com/selva86/datasets/master/Cars93_miss.csv')\n",
        "filtered_rows = df.loc[::20, ['Manufacturer', 'Model', 'Type']]\n",
        "print(filtered_rows)\n",
        "\n",
        "\n"
      ],
      "metadata": {
        "colab": {
          "base_uri": "https://localhost:8080/"
        },
        "id": "-uN165SW7Wck",
        "outputId": "71bc0efb-92d3-4f82-e8de-d19f4d89f9ab"
      },
      "execution_count": 6,
      "outputs": [
        {
          "output_type": "stream",
          "name": "stdout",
          "text": [
            "   Manufacturer    Model     Type\n",
            "0         Acura  Integra    Small\n",
            "20     Chrysler  LeBaron  Compact\n",
            "40        Honda  Prelude   Sporty\n",
            "60      Mercury   Cougar  Midsize\n",
            "80       Subaru   Loyale    Small\n"
          ]
        }
      ]
    },
    {
      "cell_type": "code",
      "source": [
        "# 2. Replace missing values in Min.Price and Max.Price columns with their respective mean.\n",
        "df['Min.Price'].fillna(df['Min.Price'].mean(), inplace=True)\n",
        "df['Max.Price'].fillna(df['Max.Price'].mean(), inplace=True)\n",
        "print(df[['Min.Price', 'Max.Price']].isnull().sum())  # Check if missing values are replaced\n",
        "\n"
      ],
      "metadata": {
        "colab": {
          "base_uri": "https://localhost:8080/"
        },
        "id": "WKzhpP5Y7Zbs",
        "outputId": "26444e98-fc66-4acc-b303-c17f3b7a3cc9"
      },
      "execution_count": 7,
      "outputs": [
        {
          "output_type": "stream",
          "name": "stdout",
          "text": [
            "Min.Price    0\n",
            "Max.Price    0\n",
            "dtype: int64\n"
          ]
        },
        {
          "output_type": "stream",
          "name": "stderr",
          "text": [
            "<ipython-input-7-b1dfeb19efae>:2: FutureWarning: A value is trying to be set on a copy of a DataFrame or Series through chained assignment using an inplace method.\n",
            "The behavior will change in pandas 3.0. This inplace method will never work because the intermediate object on which we are setting values always behaves as a copy.\n",
            "\n",
            "For example, when doing 'df[col].method(value, inplace=True)', try using 'df.method({col: value}, inplace=True)' or df[col] = df[col].method(value) instead, to perform the operation inplace on the original object.\n",
            "\n",
            "\n",
            "  df['Min.Price'].fillna(df['Min.Price'].mean(), inplace=True)\n",
            "<ipython-input-7-b1dfeb19efae>:3: FutureWarning: A value is trying to be set on a copy of a DataFrame or Series through chained assignment using an inplace method.\n",
            "The behavior will change in pandas 3.0. This inplace method will never work because the intermediate object on which we are setting values always behaves as a copy.\n",
            "\n",
            "For example, when doing 'df[col].method(value, inplace=True)', try using 'df.method({col: value}, inplace=True)' or df[col] = df[col].method(value) instead, to perform the operation inplace on the original object.\n",
            "\n",
            "\n",
            "  df['Max.Price'].fillna(df['Max.Price'].mean(), inplace=True)\n"
          ]
        }
      ]
    },
    {
      "cell_type": "code",
      "source": [
        "# 3. Get rows where the row sum is greater than 100\n",
        "df_random = pd.DataFrame(np.random.randint(10, 40, 60).reshape(-1, 4))\n",
        "rows_with_sum_gt_100 = df_random[df_random.sum(axis=1) > 100]\n",
        "print(\"Rows with sum > 100:\\n\", rows_with_sum_gt_100)"
      ],
      "metadata": {
        "colab": {
          "base_uri": "https://localhost:8080/"
        },
        "id": "jeIYoNHU7dYq",
        "outputId": "81ca0272-9660-49a1-ea6b-cb166863514b"
      },
      "execution_count": 8,
      "outputs": [
        {
          "output_type": "stream",
          "name": "stdout",
          "text": [
            "Rows with sum > 100:\n",
            "      0   1   2   3\n",
            "1   20  23  37  35\n",
            "2   17  34  27  34\n",
            "5   14  35  21  32\n",
            "9   38  11  23  32\n",
            "11  18  39  35  11\n",
            "13  31  30  18  39\n",
            "14  29  23  18  38\n"
          ]
        }
      ]
    }
  ]
}