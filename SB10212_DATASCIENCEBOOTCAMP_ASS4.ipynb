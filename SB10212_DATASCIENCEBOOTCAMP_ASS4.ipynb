{
  "nbformat": 4,
  "nbformat_minor": 0,
  "metadata": {
    "colab": {
      "provenance": []
    },
    "kernelspec": {
      "name": "python3",
      "display_name": "Python 3"
    },
    "language_info": {
      "name": "python"
    }
  },
  "cells": [
    {
      "cell_type": "code",
      "execution_count": 2,
      "metadata": {
        "colab": {
          "base_uri": "https://localhost:8080/"
        },
        "id": "nCq405aaJfjn",
        "outputId": "91d2b320-5f1e-4bc1-fc93-4f1d3eb04b88"
      },
      "outputs": [
        {
          "output_type": "execute_result",
          "data": {
            "text/plain": [
              "<sqlite3.Cursor at 0x7a386cbbde40>"
            ]
          },
          "metadata": {},
          "execution_count": 2
        }
      ],
      "source": [
        "import sqlite3\n",
        "conn = sqlite3.connect(':memory:')\n",
        "cursor = conn.cursor()\n",
        "\n",
        "# Paste your CREATE TABLE and INSERT statements here\n",
        "cursor.executescript(\"\"\"\n",
        "-- Your SQL here\n",
        "CREATE TABLE CUSTOMERS (\n",
        "    customer_id INT PRIMARY KEY,\n",
        "    first_name VARCHAR(50),\n",
        "    last_name VARCHAR(50),\n",
        "    address VARCHAR(100)\n",
        ");\n",
        "\n",
        "CREATE TABLE ITEMS (\n",
        "    item_id INT PRIMARY KEY,\n",
        "    item_name VARCHAR(50),\n",
        "    price DECIMAL(10, 2),\n",
        "    department VARCHAR(50)\n",
        ");\n",
        "\n",
        "CREATE TABLE SALES (\n",
        "    date DATE,\n",
        "    order_id INT,\n",
        "    item_id INT,\n",
        "    customer_id INT,\n",
        "    quantity INT,\n",
        "    revenue DECIMAL(10, 2),\n",
        "    FOREIGN KEY (item_id) REFERENCES ITEMS(item_id),\n",
        "    FOREIGN KEY (customer_id) REFERENCES CUSTOMERS(customer_id)\n",
        ");\n",
        "\"\"\"\n",
        "\n",
        "\n",
        ")\n"
      ]
    },
    {
      "cell_type": "code",
      "source": [
        "cursor.executescript(\"\"\"INSERT INTO CUSTOMERS (customer_id, first_name, last_name, address) VALUES\n",
        "(1001, 'John', 'Doe', '123 A St'),\n",
        "(1002, 'Jane', 'Smith', '456 B St'),\n",
        "(1003, 'Alice', 'Brown', '789 C St'),\n",
        "(1004, 'Tom', 'Hanks', '321 D St'),\n",
        "(1005, 'Emma', 'Stone', '654 E St'),\n",
        "(1006, 'Chris', 'Lee', '987 F St'),\n",
        "(1007, 'John', 'Doe', '111 G St'),\n",
        "(1008, 'Mary', 'Moe', '222 H St');\"\"\")\n"
      ],
      "metadata": {
        "colab": {
          "base_uri": "https://localhost:8080/"
        },
        "id": "DiTjxSvRJ3ka",
        "outputId": "ca8dda22-1393-4b93-892a-f85f49d4e5c8"
      },
      "execution_count": 3,
      "outputs": [
        {
          "output_type": "execute_result",
          "data": {
            "text/plain": [
              "<sqlite3.Cursor at 0x7a386cbbde40>"
            ]
          },
          "metadata": {},
          "execution_count": 3
        }
      ]
    },
    {
      "cell_type": "code",
      "source": [
        "cursor.executescript(\"\"\"INSERT INTO ITEMS (item_id, item_name, price, department) VALUES\n",
        "(1, 'Pen', 10.00, 'Stationery'),\n",
        "(2, 'Notebook', 25.00, 'Stationery'),\n",
        "(3, 'Headphones', 60.00, 'Electronics'),\n",
        "(4, 'Marker', 15.00, 'Stationery'),\n",
        "(5, 'Mug', 13.75, 'Home'),\n",
        "(6, 'USB Cable', 30.00, 'Electronics');\n",
        "\n",
        "INSERT INTO SALES (date, order_id, item_id, customer_id, quantity, revenue) VALUES\n",
        "('2023-03-18', 101, 1, 1001, 2, 40.00),\n",
        "('2023-03-18', 102, 2, 1002, 1, 25.00),\n",
        "('2023-01-12', 103, 3, 1003, 1, 60.00),\n",
        "('2023-01-25', 104, 1, 1001, 1, 20.00),\n",
        "('2022-11-03', 105, 4, 1004, 3, 45.00),\n",
        "('2022-07-19', 106, 5, 1005, 4, 55.00),\n",
        "('2022-06-11', 107, 6, 1006, 1, 30.00),\n",
        "('2023-03-18', 108, 1, 1007, 2, 40.00),\n",
        "('2023-03-18', 109, 3, 1008, 1, 60.00);\n",
        "\n",
        "\n",
        "\"\"\")"
      ],
      "metadata": {
        "colab": {
          "base_uri": "https://localhost:8080/"
        },
        "id": "POQV4tfOKCwW",
        "outputId": "aeff1484-692e-4085-851b-fc7827aa54bb"
      },
      "execution_count": 4,
      "outputs": [
        {
          "output_type": "execute_result",
          "data": {
            "text/plain": [
              "<sqlite3.Cursor at 0x7a386cbbde40>"
            ]
          },
          "metadata": {},
          "execution_count": 4
        }
      ]
    },
    {
      "cell_type": "markdown",
      "source": [
        "# 1. Total number of orders completed on 18th March 2023"
      ],
      "metadata": {
        "id": "vBao489VKNtb"
      }
    },
    {
      "cell_type": "code",
      "source": [
        "cursor.execute(\"\"\"\n",
        "SELECT COUNT(DISTINCT Order_id) AS total_orders\n",
        "FROM SALES\n",
        "WHERE Date = '2023-03-18';\n",
        "\"\"\")\n",
        "result = cursor.fetchone()[0]\n",
        "print(\"Total orders on 18th March 2023:\", result)\n"
      ],
      "metadata": {
        "colab": {
          "base_uri": "https://localhost:8080/"
        },
        "id": "PIBlM8v_KLgZ",
        "outputId": "c92a33e1-309f-47b5-97ff-020167c91c47"
      },
      "execution_count": 6,
      "outputs": [
        {
          "output_type": "stream",
          "name": "stdout",
          "text": [
            "Total orders on 18th March 2023: 4\n"
          ]
        }
      ]
    },
    {
      "cell_type": "markdown",
      "source": [
        "# 2. Total number of orders completed on 18th March 2023 by 'John Doe'"
      ],
      "metadata": {
        "id": "poAPDdDTKtDz"
      }
    },
    {
      "cell_type": "code",
      "source": [
        "\n",
        "cursor.execute(\"\"\"\n",
        "SELECT COUNT(DISTINCT s.Order_id)\n",
        "FROM SALES s\n",
        "JOIN CUSTOMERS c ON s.Customer_id = c.Customer_id\n",
        "WHERE s.Date = '2023-03-18' AND c.First_name = 'John' AND c.Last_name = 'Doe';\n",
        "\"\"\")\n",
        "print(\"2. Orders by John Doe on 18th March 2023:\", cursor.fetchone()[0])"
      ],
      "metadata": {
        "colab": {
          "base_uri": "https://localhost:8080/"
        },
        "id": "c7-zy0i_Kq4V",
        "outputId": "02416791-5f41-4d21-8863-a9d0369c8cc1"
      },
      "execution_count": 7,
      "outputs": [
        {
          "output_type": "stream",
          "name": "stdout",
          "text": [
            "2. Orders by John Doe on 18th March 2023: 2\n"
          ]
        }
      ]
    },
    {
      "cell_type": "markdown",
      "source": [
        "# 3. Total number of customers who purchased in Jan 2023 + avg spend per customer"
      ],
      "metadata": {
        "id": "Lrj__MIcK1NQ"
      }
    },
    {
      "cell_type": "code",
      "source": [
        "\n",
        "cursor.execute(\"\"\"\n",
        "SELECT COUNT(DISTINCT Customer_id),\n",
        "       ROUND(SUM(Revenue)*1.0 / COUNT(DISTINCT Customer_id), 2) AS avg_spend\n",
        "FROM SALES\n",
        "WHERE Date LIKE '2023-01%';\n",
        "\"\"\")\n",
        "count, avg_spend = cursor.fetchone()\n",
        "print(f\"3. Customers in Jan 2023: {count}, Avg spend per customer: ${avg_spend}\")"
      ],
      "metadata": {
        "colab": {
          "base_uri": "https://localhost:8080/"
        },
        "id": "-_t0OzWlKzmA",
        "outputId": "d35a3ce3-d8ba-40d7-9c5a-794ec42129b7"
      },
      "execution_count": 8,
      "outputs": [
        {
          "output_type": "stream",
          "name": "stdout",
          "text": [
            "3. Customers in Jan 2023: 2, Avg spend per customer: $40.0\n"
          ]
        }
      ]
    },
    {
      "cell_type": "markdown",
      "source": [
        "# 4. Departments that generated less than $600 in 2022\n"
      ],
      "metadata": {
        "id": "u3y7ZRIKK4pM"
      }
    },
    {
      "cell_type": "code",
      "source": [
        "cursor.execute(\"\"\"\n",
        "SELECT i.Department, SUM(s.Revenue) AS dept_revenue\n",
        "FROM SALES s\n",
        "JOIN ITEMS i ON s.Item_id = i.Item_id\n",
        "WHERE s.Date LIKE '2022%'\n",
        "GROUP BY i.Department\n",
        "HAVING dept_revenue < 600;\n",
        "\"\"\")\n",
        "print(\"4. Departments with revenue < $600 in 2022:\")\n",
        "for row in cursor.fetchall():\n",
        "    print(\" -\", row[0], \"($\"+str(row[1])+\")\")"
      ],
      "metadata": {
        "colab": {
          "base_uri": "https://localhost:8080/"
        },
        "id": "SsD7oXOcK8yO",
        "outputId": "90f623e2-c848-4ee3-cec0-8b61d988666c"
      },
      "execution_count": 9,
      "outputs": [
        {
          "output_type": "stream",
          "name": "stdout",
          "text": [
            "4. Departments with revenue < $600 in 2022:\n",
            " - Electronics ($30)\n",
            " - Home ($55)\n",
            " - Stationery ($45)\n"
          ]
        }
      ]
    },
    {
      "cell_type": "markdown",
      "source": [
        "# 5. Most and least revenue generated by a single order\n",
        "\n"
      ],
      "metadata": {
        "id": "UIwZPxnRLAKU"
      }
    },
    {
      "cell_type": "code",
      "source": [
        "cursor.execute(\"\"\"\n",
        "SELECT MAX(Revenue), MIN(Revenue)\n",
        "FROM SALES;\n",
        "\"\"\")\n",
        "max_rev, min_rev = cursor.fetchone()\n",
        "print(f\"5. Max revenue by order: ${max_rev}, Min revenue: ${min_rev}\")"
      ],
      "metadata": {
        "colab": {
          "base_uri": "https://localhost:8080/"
        },
        "id": "wVflZQJfLB-a",
        "outputId": "b17b1263-1b43-4e3d-8a4c-b0fa1a02469d"
      },
      "execution_count": 10,
      "outputs": [
        {
          "output_type": "stream",
          "name": "stdout",
          "text": [
            "5. Max revenue by order: $60, Min revenue: $20\n"
          ]
        }
      ]
    },
    {
      "cell_type": "markdown",
      "source": [
        "# 6. What were the orders that were purchased in our most lucrative order."
      ],
      "metadata": {
        "id": "8qJbKWlSLh4V"
      }
    },
    {
      "cell_type": "code",
      "source": [
        "cursor.execute(\"\"\"\n",
        "SELECT *\n",
        "FROM SALES\n",
        "WHERE Revenue = (SELECT MAX(Revenue) FROM SALES);\n",
        "\"\"\")\n",
        "\n",
        "# Print results\n",
        "rows = cursor.fetchall()\n",
        "for row in rows:\n",
        "    print(\"Order ID:\", row[1], \"| Date:\", row[0], \"| Item ID:\", row[2],\n",
        "          \"| Customer ID:\", row[3], \"| Quantity:\", row[4], \"| Revenue: $\", row[5])\n"
      ],
      "metadata": {
        "colab": {
          "base_uri": "https://localhost:8080/"
        },
        "id": "sMwcx9ONLJM5",
        "outputId": "20eec0ae-5a3a-4f2a-a8b4-d9216115e7d9"
      },
      "execution_count": 14,
      "outputs": [
        {
          "output_type": "stream",
          "name": "stdout",
          "text": [
            "Order ID: 103 | Date: 2023-01-12 | Item ID: 3 | Customer ID: 1003 | Quantity: 1 | Revenue: $ 60\n",
            "Order ID: 109 | Date: 2023-03-18 | Item ID: 3 | Customer ID: 1008 | Quantity: 1 | Revenue: $ 60\n"
          ]
        }
      ]
    }
  ]
}